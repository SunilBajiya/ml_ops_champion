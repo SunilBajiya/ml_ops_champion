{
 "cells": [
  {
   "cell_type": "code",
   "execution_count": 19,
   "id": "54318cdc",
   "metadata": {},
   "outputs": [],
   "source": [
    "import os"
   ]
  },
  {
   "cell_type": "code",
   "execution_count": 20,
   "id": "e81b663e",
   "metadata": {},
   "outputs": [
    {
     "data": {
      "text/plain": [
       "'C:\\\\Users\\\\sunil kumar\\\\OneDrive - AlgoDox Technology PVT LTD\\\\Desktop\\\\dl_ops_champios\\\\vinipro'"
      ]
     },
     "execution_count": 20,
     "metadata": {},
     "output_type": "execute_result"
    }
   ],
   "source": [
    "%pwd\n",
    "\n",
    "# C:\\Users\\sunil kumar\\OneDrive - AlgoDox Technology PVT LTD\\Desktop\\dl_ops_champios\\vinipro> how to go this directory\n",
    "os.chdir(r\"C:\\Users\\sunil kumar\\OneDrive - AlgoDox Technology PVT LTD\\Desktop\\dl_ops_champios\\vinipro\")\n",
    "%pwd\n"
   ]
  },
  {
   "cell_type": "code",
   "execution_count": null,
   "id": "4403ee5e",
   "metadata": {},
   "outputs": [],
   "source": []
  },
  {
   "cell_type": "code",
   "execution_count": null,
   "id": "11af66e5",
   "metadata": {},
   "outputs": [],
   "source": []
  },
  {
   "cell_type": "code",
   "execution_count": 21,
   "id": "181cf825",
   "metadata": {},
   "outputs": [],
   "source": [
    "# Data class it import a python tools called data class or no need to manually packge , ceate class \n",
    "# that only store data , It reduces the amout of code your need to write \n",
    "# no need to write __init__ method , __repr__ method , __eq__ method\n",
    "\n",
    "# pathlib is impor tthe path class , which helps to your work with file and folder paths to eas;u amd in aclean way for al operating system.\n",
    "\n",
    "\n",
    "# @dataclass(frozen=True) what is this is a decorator that tells paython that one time fixed that cant chagne the values , ones the obkec is created . it makes the configration to sage from accidental chagne , to Protected if some issues"
   ]
  },
  {
   "cell_type": "code",
   "execution_count": 22,
   "id": "86f26cc8",
   "metadata": {},
   "outputs": [],
   "source": [
    "from dataclasses import dataclass\n",
    "from pathlib import Path \n",
    "\n",
    "@dataclass(frozen=True)\n",
    "class DataIngestionConfig:\n",
    "    root_dir: Path \n",
    "    source_URL: str \n",
    "    local_data_file: Path \n",
    "    unzip_dir: Path"
   ]
  },
  {
   "cell_type": "code",
   "execution_count": 23,
   "id": "041eca87",
   "metadata": {},
   "outputs": [],
   "source": [
    "from src.cnnClassifier.constants import * \n",
    "from src.cnnClassifier.utils.common import read_yaml , create_directories "
   ]
  },
  {
   "cell_type": "code",
   "execution_count": 24,
   "id": "189e1e2b",
   "metadata": {},
   "outputs": [],
   "source": [
    "class ConfigurationManager:\n",
    "    def __init__(\n",
    "            self,\n",
    "            config_filepath = CONFIG_FILE_PATH,\n",
    "            params_filepath = PARAMS_FILE_PATH\n",
    "    ):\n",
    "        self.config = read_yaml(config_filepath)\n",
    "        self.params = read_yaml(params_filepath) \n",
    "\n",
    "        create_directories([self.config.artifacts_root]) \n",
    "\n",
    "    def get_data_ingestion_config(self):\n",
    "        config = self.config.data_ingestion \n",
    "\n",
    "        create_directories([config.root_dir]) \n",
    "        data_ingestion_config = DataIngestionConfig(\n",
    "            root_dir=config.root_dir,\n",
    "            source_URL=config.source_URL,\n",
    "            local_data_file=config.local_data_file,\n",
    "            unzip_dir = config.unzip_dir \n",
    "\n",
    "        )\n",
    "\n",
    "        return data_ingestion_config"
   ]
  },
  {
   "cell_type": "code",
   "execution_count": 25,
   "id": "f9c48d47",
   "metadata": {},
   "outputs": [],
   "source": [
    "import os \n",
    "import urllib.request as request \n",
    "import zipfile \n",
    "from src.cnnClassifier import logger \n",
    "from src.cnnClassifier.utils.common import get_size "
   ]
  },
  {
   "cell_type": "code",
   "execution_count": 26,
   "id": "8a1a9d9d",
   "metadata": {},
   "outputs": [],
   "source": [
    "class DataIngestion:\n",
    "    def __init__(self,config: DataIngestionConfig):\n",
    "        self.config = config \n",
    "\n",
    "    def download_file(self):\n",
    "        if not os.path.exists(self.config.local_data_file):\n",
    "            filename, headers = request.urlretrieve(\n",
    "                url = self.config.source_URL,\n",
    "                filename = self.config.local_data_file\n",
    "            )\n",
    "\n",
    "            logger.info(f\"{filename} download! with following info: \\n {headers}\") \n",
    "        else:\n",
    "            logger.info(f\"File already exists of size: {get_size(Path(self.config.local_data_file))}\")\n",
    "\n",
    "\n",
    "    def extract_zip_file(self):\n",
    "        unzip_path = self.config.unzip_dir\n",
    "        os.makedirs(unzip_path , exist_ok=True) \n",
    "        with zipfile.ZipFile(self.config.local_data_file , 'r') as zip_ref:\n",
    "            zip_ref.extractall(unzip_path)"
   ]
  },
  {
   "cell_type": "code",
   "execution_count": 29,
   "id": "548aa8e5",
   "metadata": {},
   "outputs": [
    {
     "name": "stdout",
     "output_type": "stream",
     "text": [
      "✅ YAML Content: {'artifacts_root': 'artifacts', 'data_ingestion': {'root_dir': 'artifacts/data_ingestion', 'source_URL': 'https://github.com/SunilBajiya/ml_ops_champion/raw/main/Chicken-fecal-images.zip', 'local_data_file': 'artifacts/data_ingestion/data.zip', 'unzip_dir': 'artifacts/data_ingestion'}}\n",
      "[2025-08-07 14:57:40,550: INFO: common: YAML file config\\config.yaml loaded successfully]\n",
      "✅ YAML Content: {'AUGMENTATION': True, 'IMAGE_SIZE': [224, 224, 3], 'BATCH_SIZE': 16, 'INCLUDE_TOP': False, 'EPOCHS': 1, 'CLASSES': 2, 'WEIGHTS': 'imagenet', 'LEARNING_RATE': 0.01}\n",
      "[2025-08-07 14:57:40,556: INFO: common: YAML file params.yaml loaded successfully]\n",
      "[2025-08-07 14:57:40,559: INFO: common: created directory at: artifacts]\n",
      "[2025-08-07 14:57:40,561: INFO: common: created directory at: artifacts/data_ingestion]\n",
      "[2025-08-07 14:57:40,563: INFO: 3399376260: File already exists of size: ~ 11345 KB]\n"
     ]
    }
   ],
   "source": [
    "try:\n",
    "    config = ConfigurationManager()\n",
    "    data_ingestion_config = config.get_data_ingestion_config() \n",
    "    data_ingestion = DataIngestion(config=data_ingestion_config)\n",
    "    data_ingestion.download_file()\n",
    "    data_ingestion.extract_zip_file() \n",
    "except Exception as e :\n",
    "    raise e"
   ]
  },
  {
   "cell_type": "code",
   "execution_count": null,
   "id": "5cdc3659",
   "metadata": {},
   "outputs": [],
   "source": []
  }
 ],
 "metadata": {
  "kernelspec": {
   "display_name": "vinipro (3.12.5)",
   "language": "python",
   "name": "python3"
  },
  "language_info": {
   "codemirror_mode": {
    "name": "ipython",
    "version": 3
   },
   "file_extension": ".py",
   "mimetype": "text/x-python",
   "name": "python",
   "nbconvert_exporter": "python",
   "pygments_lexer": "ipython3",
   "version": "3.12.5"
  }
 },
 "nbformat": 4,
 "nbformat_minor": 5
}
