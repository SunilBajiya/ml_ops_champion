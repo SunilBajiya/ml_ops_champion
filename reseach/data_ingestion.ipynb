{
 "cells": [
  {
   "cell_type": "code",
   "execution_count": 1,
   "id": "54318cdc",
   "metadata": {},
   "outputs": [],
   "source": [
    "import os"
   ]
  },
  {
   "cell_type": "code",
   "execution_count": 2,
   "id": "e81b663e",
   "metadata": {},
   "outputs": [
    {
     "data": {
      "text/plain": [
       "'c:\\\\Users\\\\sunil kumar\\\\OneDrive - AlgoDox Technology PVT LTD\\\\Desktop\\\\dl_ops_champios\\\\vinipro\\\\reseach'"
      ]
     },
     "execution_count": 2,
     "metadata": {},
     "output_type": "execute_result"
    }
   ],
   "source": [
    "%pwd"
   ]
  },
  {
   "cell_type": "code",
   "execution_count": 3,
   "id": "4403ee5e",
   "metadata": {},
   "outputs": [],
   "source": [
    "os.chdir(\"../\")"
   ]
  },
  {
   "cell_type": "code",
   "execution_count": 4,
   "id": "11af66e5",
   "metadata": {},
   "outputs": [
    {
     "data": {
      "text/plain": [
       "'c:\\\\Users\\\\sunil kumar\\\\OneDrive - AlgoDox Technology PVT LTD\\\\Desktop\\\\dl_ops_champios\\\\vinipro'"
      ]
     },
     "execution_count": 4,
     "metadata": {},
     "output_type": "execute_result"
    }
   ],
   "source": [
    "%pwd"
   ]
  },
  {
   "cell_type": "code",
   "execution_count": 5,
   "id": "181cf825",
   "metadata": {},
   "outputs": [],
   "source": [
    "# Data class it import a python tools called data class or no need to manually packge , ceate class \n",
    "# that only store data , It reduces the amout of code your need to write \n",
    "# no need to write __init__ method , __repr__ method , __eq__ method\n",
    "\n",
    "\n",
    "\n",
    "# pathlib is impor tthe path class , which helps to your work with file and folder paths to eas;u amd in aclean way for al operating system.\n",
    "\n",
    "\n",
    "# @dataclass(frozen=True) what is this is a decorator that tells paython that one time fixed that cant chagne the values , ones the obkec is created . it makes the configration to sage from accidental chagne , to Protected if some issues"
   ]
  },
  {
   "cell_type": "code",
   "execution_count": 6,
   "id": "86f26cc8",
   "metadata": {},
   "outputs": [],
   "source": [
    "from dataclasses import dataclass\n",
    "from pathlib import Path\n",
    "\n",
    "\n",
    "@dataclass(frozen=True) # if any misstake care\n",
    "class DataIngestiionConfig:\n",
    "    root_dir: Path\n",
    "    source_url: str\n",
    "    local_data_file: Path\n",
    "    unzip_dir: Path\n",
    "    "
   ]
  },
  {
   "cell_type": "code",
   "execution_count": 7,
   "id": "041eca87",
   "metadata": {},
   "outputs": [
    {
     "ename": "ImportError",
     "evalue": "cannot import name 'read_yaml' from 'src.cnnClassifier.utils.common' (c:\\Users\\sunil kumar\\OneDrive - AlgoDox Technology PVT LTD\\Desktop\\dl_ops_champios\\vinipro\\src\\cnnClassifier\\utils\\common.py)",
     "output_type": "error",
     "traceback": [
      "\u001b[31m---------------------------------------------------------------------------\u001b[39m",
      "\u001b[31mImportError\u001b[39m                               Traceback (most recent call last)",
      "\u001b[36mCell\u001b[39m\u001b[36m \u001b[39m\u001b[32mIn[7]\u001b[39m\u001b[32m, line 2\u001b[39m\n\u001b[32m      1\u001b[39m \u001b[38;5;28;01mfrom\u001b[39;00m\u001b[38;5;250m \u001b[39m\u001b[34;01msrc\u001b[39;00m\u001b[34;01m.\u001b[39;00m\u001b[34;01mcnnClassifier\u001b[39;00m\u001b[34;01m.\u001b[39;00m\u001b[34;01mcomponents\u001b[39;00m\u001b[38;5;250m \u001b[39m\u001b[38;5;28;01mimport\u001b[39;00m *\n\u001b[32m----> \u001b[39m\u001b[32m2\u001b[39m \u001b[38;5;28;01mfrom\u001b[39;00m\u001b[38;5;250m \u001b[39m\u001b[34;01msrc\u001b[39;00m\u001b[34;01m.\u001b[39;00m\u001b[34;01mcnnClassifier\u001b[39;00m\u001b[34;01m.\u001b[39;00m\u001b[34;01mutils\u001b[39;00m\u001b[34;01m.\u001b[39;00m\u001b[34;01mcommon\u001b[39;00m\u001b[38;5;250m \u001b[39m\u001b[38;5;28;01mimport\u001b[39;00m read_yaml, create_directories\n",
      "\u001b[31mImportError\u001b[39m: cannot import name 'read_yaml' from 'src.cnnClassifier.utils.common' (c:\\Users\\sunil kumar\\OneDrive - AlgoDox Technology PVT LTD\\Desktop\\dl_ops_champios\\vinipro\\src\\cnnClassifier\\utils\\common.py)"
     ]
    }
   ],
   "source": [
    "from src.cnnClassifier.components import *\n",
    "from src.cnnClassifier.utils.common import read_yaml, create_directories\n"
   ]
  },
  {
   "cell_type": "code",
   "execution_count": null,
   "id": "189e1e2b",
   "metadata": {},
   "outputs": [],
   "source": [
    "class ConfigurationManager:\n",
    "    def __inti__(\n",
    "        self,\n",
    "        config_filepath : CONFIG_FILE_PATH,\n",
    "        params_filepath : PARAMS_FILE_PATH\n",
    "         \n",
    "    )-> None:\n",
    "        self.config = read_yaml(config_filepath)\n",
    "        self.params = read_yaml(params_filepath)\n",
    "        \n",
    "        create_directories([self.config.artifacts_root])\n",
    "        \n",
    "    def get_data_ingestion_config(self) ->None:\n",
    "        config= self.config.data_ingestion\n",
    "        \n",
    "        "
   ]
  }
 ],
 "metadata": {
  "kernelspec": {
   "display_name": "vinipro (3.12.5)",
   "language": "python",
   "name": "python3"
  },
  "language_info": {
   "codemirror_mode": {
    "name": "ipython",
    "version": 3
   },
   "file_extension": ".py",
   "mimetype": "text/x-python",
   "name": "python",
   "nbconvert_exporter": "python",
   "pygments_lexer": "ipython3",
   "version": "3.12.5"
  }
 },
 "nbformat": 4,
 "nbformat_minor": 5
}
